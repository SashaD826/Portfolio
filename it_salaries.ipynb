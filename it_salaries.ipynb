{
 "cells": [
  {
   "cell_type": "code",
   "execution_count": 1,
   "id": "876819d4",
   "metadata": {},
   "outputs": [],
   "source": [
    "# IMporting Libraries and a dataset\n",
    "import pandas as pd\n",
    "import matplotlib.pyplot as plt\n",
    "it_salaries = pd.read_csv(r'C:\\Users\\sasha\\Documents\\Data Analysis\\Excel\\it_salaries.csv')"
   ]
  },
  {
   "cell_type": "code",
   "execution_count": null,
   "id": "59c4c1c5",
   "metadata": {},
   "outputs": [],
   "source": [
    "# Creating a copy of a table\n",
    "its2 = it_salaries.copy()\n",
    "its2"
   ]
  },
  {
   "cell_type": "code",
   "execution_count": 3,
   "id": "ab063e45",
   "metadata": {},
   "outputs": [],
   "source": [
    "# Making Data more readable\n",
    "its2.experience_level = its2.experience_level.replace('EN', 'Junior')\n",
    "its2.experience_level = its2.experience_level.replace('MI', 'Medior')\n",
    "its2.experience_level = its2.experience_level.replace('SE', 'Senior')\n",
    "its2.experience_level = its2.experience_level.replace('EX', 'Executive')\n",
    "\n",
    "its2.company_size = its2.company_size.replace('S', 'Small')\n",
    "its2.company_size = its2.company_size.replace('M', 'Medium')\n",
    "its2.company_size = its2.company_size.replace('L', 'Large')\n",
    "\n",
    "its2.employment_type = its2.employment_type.replace('FT', 'Full Time')\n",
    "its2.employment_type = its2.employment_type.replace('FL', 'Freelance')\n",
    "its2.employment_type = its2.employment_type.replace('CT', 'Contract')\n",
    "its2.employment_type = its2.employment_type.replace('PT', 'Part Time')"
   ]
  },
  {
   "cell_type": "code",
   "execution_count": null,
   "id": "86e6ddb6",
   "metadata": {},
   "outputs": [],
   "source": [
    "# New table with jobs in Czech republic\n",
    "cz_jobs = its2[its2['company_location'] == 'CZ']\n",
    "cz_jobs.describe()\n",
    "cz_jobs.reset_index(inplace=True)\n",
    "cz_jobs"
   ]
  },
  {
   "cell_type": "code",
   "execution_count": null,
   "id": "5378ef31",
   "metadata": {},
   "outputs": [],
   "source": [
    "# Limiting dataset only to Full-Time jobs\n",
    "its2_FT = its2[its2['employment_type'] == 'Full Time']\n",
    "its2_FT"
   ]
  },
  {
   "cell_type": "code",
   "execution_count": null,
   "id": "6189042a",
   "metadata": {},
   "outputs": [],
   "source": [
    "# Limiting DataFrame to a couple of countries, job titles\n",
    "desired_location = ['AT', 'DE', 'FR', 'US']\n",
    "desired_titles = ['Data Analyst', 'Data Scientist', 'Data Engineer', 'Machine Learning Engineer']\n",
    "# Making sure countries and job titles match\n",
    "JT = its2_FT[its2_FT.job_title.isin(desired_titles) & \n",
    "          its2_FT.company_location.isin(desired_location)]\n",
    "# Creating a pivot table\n",
    "pivot = JT.pivot_table(values = 'salary_in_usd', index = 'job_title', columns = 'company_location', aggfunc = 'median')\n",
    "# Reindexing the pivot table to make sure I'll get a correct result\n",
    "pivot = pivot.reindex(index = desired_titles, columns = desired_location)\n",
    "pivot\n",
    "\n"
   ]
  },
  {
   "cell_type": "code",
   "execution_count": null,
   "id": "b242b0b6",
   "metadata": {},
   "outputs": [],
   "source": [
    "# Creating a Bar Chart with top 5 most popular IT jobs Worldwide\n",
    "top_5_jobs = its2_FT['job_title'].value_counts().head(5)\n",
    "plt.barh(top_5_jobs.index, top_5_jobs.values)\n",
    "plt.gca().invert_yaxis()\n",
    "plt.xlabel(\"Number of Jobs\")\n",
    "plt.title(\"Top 5 IT Jobs Worldwide\")\n",
    "plt.grid(True, which = 'major', axis = 'x', linestyle='--')\n",
    "plt.show()"
   ]
  },
  {
   "cell_type": "code",
   "execution_count": null,
   "id": "b18475f5",
   "metadata": {},
   "outputs": [],
   "source": [
    "# Creating a Bar Chart showing Average salaries for Top 5 most popular IT jobs Worldwide\n",
    "top_5_jobs = its2_FT['job_title'].value_counts().head(5).index\n",
    "median_salaries = its2_FT[its2_FT['job_title'].isin(top_5_jobs)].groupby('job_title')['salary_in_usd'].median()\n",
    "median_salaries = median_salaries.reindex(top_5_jobs)\n",
    "\n",
    "plt.bar(top_5_jobs, median_salaries)\n",
    "plt.xlabel(\"Job Name\")\n",
    "plt.title(\"Average Salaries for Top 5 IT Jobs Worldwide\")\n",
    "plt.xticks(rotation = 45, ha = 'center')\n",
    "plt.grid(True, which = 'major', axis = 'y', linestyle='--')\n",
    "for i, v in enumerate(median_salaries):\n",
    "    plt.text(i, v + 1000, f'${v:,.0f}', ha='center', va='bottom')\n",
    "plt.show()"
   ]
  }
 ],
 "metadata": {
  "kernelspec": {
   "display_name": "base",
   "language": "python",
   "name": "python3"
  },
  "language_info": {
   "codemirror_mode": {
    "name": "ipython",
    "version": 3
   },
   "file_extension": ".py",
   "mimetype": "text/x-python",
   "name": "python",
   "nbconvert_exporter": "python",
   "pygments_lexer": "ipython3",
   "version": "3.12.7"
  }
 },
 "nbformat": 4,
 "nbformat_minor": 5
}
